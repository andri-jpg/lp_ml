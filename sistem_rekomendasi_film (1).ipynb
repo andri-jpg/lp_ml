{
  "cells": [
    {
      "cell_type": "markdown",
      "metadata": {
        "id": "paKJHJi0O5F4"
      },
      "source": [
        "<h1>Sistem rekomendasi film dengan Colabborative Filtering</h1>\n",
        "Project ini dibuat untuk memberi rekomendasi film kepada user\n",
        "\n",
        "\n",
        "> Sumber dataset : https://www.kaggle.com/zeeshanmulla/recommendation-system-movie?select=Recommendation+System.csv\n",
        "\n",
        "> Author : https://www.kaggle.com/zeeshanmulla\n",
        "\n",
        "\n",
        "\n",
        "\n",
        "\n",
        "\n",
        "\n",
        "\n",
        "\n"
      ]
    },
    {
      "cell_type": "markdown",
      "metadata": {
        "id": "TavOf1nsQmS_"
      },
      "source": [
        "# Import dataset dari google drive"
      ]
    },
    {
      "cell_type": "code",
      "execution_count": null,
      "metadata": {
        "colab": {
          "base_uri": "https://localhost:8080/"
        },
        "id": "06h1EXBNHtyV",
        "outputId": "f96bdbc3-95c6-4ca8-d31d-9c40379c371c"
      },
      "outputs": [
        {
          "output_type": "stream",
          "name": "stdout",
          "text": [
            "Drive already mounted at /content/drive; to attempt to forcibly remount, call drive.mount(\"/content/drive\", force_remount=True).\n"
          ]
        }
      ],
      "source": [
        "from google.colab import drive\n",
        "drive.mount('/content/drive')"
      ]
    },
    {
      "cell_type": "code",
      "execution_count": null,
      "metadata": {
        "id": "8sedjbyeH83_"
      },
      "outputs": [],
      "source": [
        "import pandas as pd\n",
        "df = pd.read_csv('/content/drive/MyDrive/Colab Notebooks/Recommendation System.csv')\n",
        "title = pd.read_csv('/content/drive/MyDrive/Colab Notebooks/Movie_Id_Titles')\n",
        "dfn = pd.read_csv('/content/drive/MyDrive/Colab Notebooks/Recommendation System.csv')\n",
        "titlen = pd.read_csv('/content/drive/MyDrive/Colab Notebooks/Movie_Id_Titles')"
      ]
    },
    {
      "cell_type": "markdown",
      "metadata": {
        "id": "A38FM34eRZ2q"
      },
      "source": [
        "Keterangan label\n",
        "\n",
        "*   item_id = ID judul film\n",
        "*   user_id = ID user\n",
        "*   title = judul film\n",
        "*   rating = penilaian user\n",
        "\n",
        "\n",
        "\n"
      ]
    },
    {
      "cell_type": "code",
      "execution_count": null,
      "metadata": {
        "colab": {
          "base_uri": "https://localhost:8080/",
          "height": 206
        },
        "id": "aKP-hsIFIkVO",
        "outputId": "7c55aa45-4367-4963-818e-fd93800f889f"
      },
      "outputs": [
        {
          "output_type": "execute_result",
          "data": {
            "text/html": [
              "\n",
              "  <div id=\"df-5148df59-b39e-431f-8a73-4d851d26815b\">\n",
              "    <div class=\"colab-df-container\">\n",
              "      <div>\n",
              "<style scoped>\n",
              "    .dataframe tbody tr th:only-of-type {\n",
              "        vertical-align: middle;\n",
              "    }\n",
              "\n",
              "    .dataframe tbody tr th {\n",
              "        vertical-align: top;\n",
              "    }\n",
              "\n",
              "    .dataframe thead th {\n",
              "        text-align: right;\n",
              "    }\n",
              "</style>\n",
              "<table border=\"1\" class=\"dataframe\">\n",
              "  <thead>\n",
              "    <tr style=\"text-align: right;\">\n",
              "      <th></th>\n",
              "      <th>item_id</th>\n",
              "      <th>title</th>\n",
              "    </tr>\n",
              "  </thead>\n",
              "  <tbody>\n",
              "    <tr>\n",
              "      <th>0</th>\n",
              "      <td>1</td>\n",
              "      <td>Toy Story (1995)</td>\n",
              "    </tr>\n",
              "    <tr>\n",
              "      <th>1</th>\n",
              "      <td>2</td>\n",
              "      <td>GoldenEye (1995)</td>\n",
              "    </tr>\n",
              "    <tr>\n",
              "      <th>2</th>\n",
              "      <td>3</td>\n",
              "      <td>Four Rooms (1995)</td>\n",
              "    </tr>\n",
              "    <tr>\n",
              "      <th>3</th>\n",
              "      <td>4</td>\n",
              "      <td>Get Shorty (1995)</td>\n",
              "    </tr>\n",
              "    <tr>\n",
              "      <th>4</th>\n",
              "      <td>5</td>\n",
              "      <td>Copycat (1995)</td>\n",
              "    </tr>\n",
              "  </tbody>\n",
              "</table>\n",
              "</div>\n",
              "      <button class=\"colab-df-convert\" onclick=\"convertToInteractive('df-5148df59-b39e-431f-8a73-4d851d26815b')\"\n",
              "              title=\"Convert this dataframe to an interactive table.\"\n",
              "              style=\"display:none;\">\n",
              "        \n",
              "  <svg xmlns=\"http://www.w3.org/2000/svg\" height=\"24px\"viewBox=\"0 0 24 24\"\n",
              "       width=\"24px\">\n",
              "    <path d=\"M0 0h24v24H0V0z\" fill=\"none\"/>\n",
              "    <path d=\"M18.56 5.44l.94 2.06.94-2.06 2.06-.94-2.06-.94-.94-2.06-.94 2.06-2.06.94zm-11 1L8.5 8.5l.94-2.06 2.06-.94-2.06-.94L8.5 2.5l-.94 2.06-2.06.94zm10 10l.94 2.06.94-2.06 2.06-.94-2.06-.94-.94-2.06-.94 2.06-2.06.94z\"/><path d=\"M17.41 7.96l-1.37-1.37c-.4-.4-.92-.59-1.43-.59-.52 0-1.04.2-1.43.59L10.3 9.45l-7.72 7.72c-.78.78-.78 2.05 0 2.83L4 21.41c.39.39.9.59 1.41.59.51 0 1.02-.2 1.41-.59l7.78-7.78 2.81-2.81c.8-.78.8-2.07 0-2.86zM5.41 20L4 18.59l7.72-7.72 1.47 1.35L5.41 20z\"/>\n",
              "  </svg>\n",
              "      </button>\n",
              "      \n",
              "  <style>\n",
              "    .colab-df-container {\n",
              "      display:flex;\n",
              "      flex-wrap:wrap;\n",
              "      gap: 12px;\n",
              "    }\n",
              "\n",
              "    .colab-df-convert {\n",
              "      background-color: #E8F0FE;\n",
              "      border: none;\n",
              "      border-radius: 50%;\n",
              "      cursor: pointer;\n",
              "      display: none;\n",
              "      fill: #1967D2;\n",
              "      height: 32px;\n",
              "      padding: 0 0 0 0;\n",
              "      width: 32px;\n",
              "    }\n",
              "\n",
              "    .colab-df-convert:hover {\n",
              "      background-color: #E2EBFA;\n",
              "      box-shadow: 0px 1px 2px rgba(60, 64, 67, 0.3), 0px 1px 3px 1px rgba(60, 64, 67, 0.15);\n",
              "      fill: #174EA6;\n",
              "    }\n",
              "\n",
              "    [theme=dark] .colab-df-convert {\n",
              "      background-color: #3B4455;\n",
              "      fill: #D2E3FC;\n",
              "    }\n",
              "\n",
              "    [theme=dark] .colab-df-convert:hover {\n",
              "      background-color: #434B5C;\n",
              "      box-shadow: 0px 1px 3px 1px rgba(0, 0, 0, 0.15);\n",
              "      filter: drop-shadow(0px 1px 2px rgba(0, 0, 0, 0.3));\n",
              "      fill: #FFFFFF;\n",
              "    }\n",
              "  </style>\n",
              "\n",
              "      <script>\n",
              "        const buttonEl =\n",
              "          document.querySelector('#df-5148df59-b39e-431f-8a73-4d851d26815b button.colab-df-convert');\n",
              "        buttonEl.style.display =\n",
              "          google.colab.kernel.accessAllowed ? 'block' : 'none';\n",
              "\n",
              "        async function convertToInteractive(key) {\n",
              "          const element = document.querySelector('#df-5148df59-b39e-431f-8a73-4d851d26815b');\n",
              "          const dataTable =\n",
              "            await google.colab.kernel.invokeFunction('convertToInteractive',\n",
              "                                                     [key], {});\n",
              "          if (!dataTable) return;\n",
              "\n",
              "          const docLinkHtml = 'Like what you see? Visit the ' +\n",
              "            '<a target=\"_blank\" href=https://colab.research.google.com/notebooks/data_table.ipynb>data table notebook</a>'\n",
              "            + ' to learn more about interactive tables.';\n",
              "          element.innerHTML = '';\n",
              "          dataTable['output_type'] = 'display_data';\n",
              "          await google.colab.output.renderOutput(dataTable, element);\n",
              "          const docLink = document.createElement('div');\n",
              "          docLink.innerHTML = docLinkHtml;\n",
              "          element.appendChild(docLink);\n",
              "        }\n",
              "      </script>\n",
              "    </div>\n",
              "  </div>\n",
              "  "
            ],
            "text/plain": [
              "   item_id              title\n",
              "0        1   Toy Story (1995)\n",
              "1        2   GoldenEye (1995)\n",
              "2        3  Four Rooms (1995)\n",
              "3        4  Get Shorty (1995)\n",
              "4        5     Copycat (1995)"
            ]
          },
          "metadata": {},
          "execution_count": 5
        }
      ],
      "source": [
        "title.head()"
      ]
    },
    {
      "cell_type": "code",
      "execution_count": null,
      "metadata": {
        "colab": {
          "base_uri": "https://localhost:8080/",
          "height": 202
        },
        "id": "zCknpIklIxq0",
        "outputId": "f822fd33-729c-411b-c5bc-61764d5fa54f"
      },
      "outputs": [
        {
          "data": {
            "text/html": [
              "<div>\n",
              "<style scoped>\n",
              "    .dataframe tbody tr th:only-of-type {\n",
              "        vertical-align: middle;\n",
              "    }\n",
              "\n",
              "    .dataframe tbody tr th {\n",
              "        vertical-align: top;\n",
              "    }\n",
              "\n",
              "    .dataframe thead th {\n",
              "        text-align: right;\n",
              "    }\n",
              "</style>\n",
              "<table border=\"1\" class=\"dataframe\">\n",
              "  <thead>\n",
              "    <tr style=\"text-align: right;\">\n",
              "      <th></th>\n",
              "      <th>0</th>\n",
              "      <th>50</th>\n",
              "      <th>5</th>\n",
              "      <th>881250949</th>\n",
              "    </tr>\n",
              "  </thead>\n",
              "  <tbody>\n",
              "    <tr>\n",
              "      <th>0</th>\n",
              "      <td>0</td>\n",
              "      <td>172</td>\n",
              "      <td>5</td>\n",
              "      <td>881250949</td>\n",
              "    </tr>\n",
              "    <tr>\n",
              "      <th>1</th>\n",
              "      <td>0</td>\n",
              "      <td>133</td>\n",
              "      <td>1</td>\n",
              "      <td>881250949</td>\n",
              "    </tr>\n",
              "    <tr>\n",
              "      <th>2</th>\n",
              "      <td>196</td>\n",
              "      <td>242</td>\n",
              "      <td>3</td>\n",
              "      <td>881250949</td>\n",
              "    </tr>\n",
              "    <tr>\n",
              "      <th>3</th>\n",
              "      <td>186</td>\n",
              "      <td>302</td>\n",
              "      <td>3</td>\n",
              "      <td>891717742</td>\n",
              "    </tr>\n",
              "    <tr>\n",
              "      <th>4</th>\n",
              "      <td>22</td>\n",
              "      <td>377</td>\n",
              "      <td>1</td>\n",
              "      <td>878887116</td>\n",
              "    </tr>\n",
              "  </tbody>\n",
              "</table>\n",
              "</div>"
            ],
            "text/plain": [
              "     0   50  5  881250949\n",
              "0    0  172  5  881250949\n",
              "1    0  133  1  881250949\n",
              "2  196  242  3  881250949\n",
              "3  186  302  3  891717742\n",
              "4   22  377  1  878887116"
            ]
          },
          "execution_count": 4,
          "metadata": {},
          "output_type": "execute_result"
        }
      ],
      "source": [
        "df.head()"
      ]
    },
    {
      "cell_type": "markdown",
      "metadata": {
        "id": "u0K69T3zSHR2"
      },
      "source": [
        "Memberi label pada dataframe"
      ]
    },
    {
      "cell_type": "code",
      "execution_count": null,
      "metadata": {
        "colab": {
          "base_uri": "https://localhost:8080/",
          "height": 202
        },
        "id": "HZgS9nF0KJuM",
        "outputId": "acf46d87-e0cd-4b15-e10b-e465ba077c34"
      },
      "outputs": [
        {
          "data": {
            "text/html": [
              "<div>\n",
              "<style scoped>\n",
              "    .dataframe tbody tr th:only-of-type {\n",
              "        vertical-align: middle;\n",
              "    }\n",
              "\n",
              "    .dataframe tbody tr th {\n",
              "        vertical-align: top;\n",
              "    }\n",
              "\n",
              "    .dataframe thead th {\n",
              "        text-align: right;\n",
              "    }\n",
              "</style>\n",
              "<table border=\"1\" class=\"dataframe\">\n",
              "  <thead>\n",
              "    <tr style=\"text-align: right;\">\n",
              "      <th></th>\n",
              "      <th>user_id</th>\n",
              "      <th>item_id</th>\n",
              "      <th>rating</th>\n",
              "      <th>timestamp</th>\n",
              "    </tr>\n",
              "  </thead>\n",
              "  <tbody>\n",
              "    <tr>\n",
              "      <th>0</th>\n",
              "      <td>0</td>\n",
              "      <td>172</td>\n",
              "      <td>5</td>\n",
              "      <td>881250949</td>\n",
              "    </tr>\n",
              "    <tr>\n",
              "      <th>1</th>\n",
              "      <td>0</td>\n",
              "      <td>133</td>\n",
              "      <td>1</td>\n",
              "      <td>881250949</td>\n",
              "    </tr>\n",
              "    <tr>\n",
              "      <th>2</th>\n",
              "      <td>196</td>\n",
              "      <td>242</td>\n",
              "      <td>3</td>\n",
              "      <td>881250949</td>\n",
              "    </tr>\n",
              "    <tr>\n",
              "      <th>3</th>\n",
              "      <td>186</td>\n",
              "      <td>302</td>\n",
              "      <td>3</td>\n",
              "      <td>891717742</td>\n",
              "    </tr>\n",
              "    <tr>\n",
              "      <th>4</th>\n",
              "      <td>22</td>\n",
              "      <td>377</td>\n",
              "      <td>1</td>\n",
              "      <td>878887116</td>\n",
              "    </tr>\n",
              "  </tbody>\n",
              "</table>\n",
              "</div>"
            ],
            "text/plain": [
              "   user_id  item_id  rating  timestamp\n",
              "0        0      172       5  881250949\n",
              "1        0      133       1  881250949\n",
              "2      196      242       3  881250949\n",
              "3      186      302       3  891717742\n",
              "4       22      377       1  878887116"
            ]
          },
          "execution_count": 5,
          "metadata": {},
          "output_type": "execute_result"
        }
      ],
      "source": [
        "df.columns = ['user_id', 'item_id', 'rating', 'timestamp']\n",
        "df.head()"
      ]
    },
    {
      "cell_type": "markdown",
      "metadata": {
        "id": "eibA4x4nSY3C"
      },
      "source": [
        "# Mengecek apakah ada miss value"
      ]
    },
    {
      "cell_type": "code",
      "execution_count": null,
      "metadata": {
        "colab": {
          "base_uri": "https://localhost:8080/"
        },
        "id": "SEEIMJLoXkSS",
        "outputId": "ac2e5527-e112-4267-b03c-86f5a1913aae"
      },
      "outputs": [
        {
          "name": "stdout",
          "output_type": "stream",
          "text": [
            "user_id      0\n",
            "item_id      0\n",
            "rating       0\n",
            "timestamp    0\n",
            "dtype: int64\n"
          ]
        }
      ],
      "source": [
        "miss_value = df.isnull().sum()\n",
        "print(miss_value)"
      ]
    },
    {
      "cell_type": "code",
      "execution_count": null,
      "metadata": {
        "colab": {
          "base_uri": "https://localhost:8080/",
          "height": 294
        },
        "id": "x4fCrTeRKLE8",
        "outputId": "da27934e-e8a3-4ca5-9ab8-c5fb82632bed"
      },
      "outputs": [
        {
          "data": {
            "text/html": [
              "<div>\n",
              "<style scoped>\n",
              "    .dataframe tbody tr th:only-of-type {\n",
              "        vertical-align: middle;\n",
              "    }\n",
              "\n",
              "    .dataframe tbody tr th {\n",
              "        vertical-align: top;\n",
              "    }\n",
              "\n",
              "    .dataframe thead th {\n",
              "        text-align: right;\n",
              "    }\n",
              "</style>\n",
              "<table border=\"1\" class=\"dataframe\">\n",
              "  <thead>\n",
              "    <tr style=\"text-align: right;\">\n",
              "      <th></th>\n",
              "      <th>user_id</th>\n",
              "      <th>item_id</th>\n",
              "      <th>rating</th>\n",
              "      <th>timestamp</th>\n",
              "    </tr>\n",
              "  </thead>\n",
              "  <tbody>\n",
              "    <tr>\n",
              "      <th>count</th>\n",
              "      <td>100002.000000</td>\n",
              "      <td>100002.000000</td>\n",
              "      <td>100002.000000</td>\n",
              "      <td>1.000020e+05</td>\n",
              "    </tr>\n",
              "    <tr>\n",
              "      <th>mean</th>\n",
              "      <td>462.475500</td>\n",
              "      <td>425.524670</td>\n",
              "      <td>3.529849</td>\n",
              "      <td>8.835288e+08</td>\n",
              "    </tr>\n",
              "    <tr>\n",
              "      <th>std</th>\n",
              "      <td>266.619776</td>\n",
              "      <td>330.797313</td>\n",
              "      <td>1.125700</td>\n",
              "      <td>5.343812e+06</td>\n",
              "    </tr>\n",
              "    <tr>\n",
              "      <th>min</th>\n",
              "      <td>0.000000</td>\n",
              "      <td>1.000000</td>\n",
              "      <td>1.000000</td>\n",
              "      <td>8.747247e+08</td>\n",
              "    </tr>\n",
              "    <tr>\n",
              "      <th>25%</th>\n",
              "      <td>254.000000</td>\n",
              "      <td>175.000000</td>\n",
              "      <td>3.000000</td>\n",
              "      <td>8.794487e+08</td>\n",
              "    </tr>\n",
              "    <tr>\n",
              "      <th>50%</th>\n",
              "      <td>447.000000</td>\n",
              "      <td>322.000000</td>\n",
              "      <td>4.000000</td>\n",
              "      <td>8.828269e+08</td>\n",
              "    </tr>\n",
              "    <tr>\n",
              "      <th>75%</th>\n",
              "      <td>682.000000</td>\n",
              "      <td>631.000000</td>\n",
              "      <td>4.000000</td>\n",
              "      <td>8.882600e+08</td>\n",
              "    </tr>\n",
              "    <tr>\n",
              "      <th>max</th>\n",
              "      <td>943.000000</td>\n",
              "      <td>1682.000000</td>\n",
              "      <td>5.000000</td>\n",
              "      <td>8.932866e+08</td>\n",
              "    </tr>\n",
              "  </tbody>\n",
              "</table>\n",
              "</div>"
            ],
            "text/plain": [
              "             user_id        item_id         rating     timestamp\n",
              "count  100002.000000  100002.000000  100002.000000  1.000020e+05\n",
              "mean      462.475500     425.524670       3.529849  8.835288e+08\n",
              "std       266.619776     330.797313       1.125700  5.343812e+06\n",
              "min         0.000000       1.000000       1.000000  8.747247e+08\n",
              "25%       254.000000     175.000000       3.000000  8.794487e+08\n",
              "50%       447.000000     322.000000       4.000000  8.828269e+08\n",
              "75%       682.000000     631.000000       4.000000  8.882600e+08\n",
              "max       943.000000    1682.000000       5.000000  8.932866e+08"
            ]
          },
          "execution_count": 7,
          "metadata": {},
          "output_type": "execute_result"
        }
      ],
      "source": [
        "df.describe()"
      ]
    },
    {
      "cell_type": "markdown",
      "metadata": {
        "id": "zjmqe_69TmS_"
      },
      "source": [
        "Mengecek user id dengan id 0"
      ]
    },
    {
      "cell_type": "code",
      "execution_count": null,
      "metadata": {
        "colab": {
          "base_uri": "https://localhost:8080/"
        },
        "id": "yu9bna_1Lf3l",
        "outputId": "91d6fc69-9a81-42c5-eef5-80a958648cbb"
      },
      "outputs": [
        {
          "name": "stdout",
          "output_type": "stream",
          "text": [
            "2\n"
          ]
        }
      ],
      "source": [
        "checkUser = (df.user_id == 0).sum()\n",
        "print(checkUser)"
      ]
    },
    {
      "cell_type": "markdown",
      "metadata": {
        "id": "eKJ1rG5iTvo1"
      },
      "source": [
        "Mengganti User id 0 dengan 945 agar jumlah user menjadi 944"
      ]
    },
    {
      "cell_type": "code",
      "execution_count": null,
      "metadata": {
        "id": "ypSoGHRcNdbl"
      },
      "outputs": [],
      "source": [
        "df['user_id'] = df['user_id'].replace([0,],[945])"
      ]
    },
    {
      "cell_type": "code",
      "execution_count": null,
      "metadata": {
        "colab": {
          "base_uri": "https://localhost:8080/"
        },
        "id": "rigeyrfsP3yo",
        "outputId": "11b2aa88-4834-411c-81ed-9334e92eb5c7"
      },
      "outputs": [
        {
          "name": "stdout",
          "output_type": "stream",
          "text": [
            "jumlah user : 944\n"
          ]
        }
      ],
      "source": [
        "print('jumlah user :', len(df.user_id.unique()))"
      ]
    },
    {
      "cell_type": "markdown",
      "metadata": {
        "id": "4N46bithdz5d"
      },
      "source": [
        "# Data preparation"
      ]
    },
    {
      "cell_type": "markdown",
      "metadata": {
        "id": "uk84GtV8T9Qd"
      },
      "source": [
        "Menghapus label yang tidak digunakan"
      ]
    },
    {
      "cell_type": "code",
      "execution_count": null,
      "metadata": {
        "colab": {
          "base_uri": "https://localhost:8080/",
          "height": 202
        },
        "id": "9V_-f3_PbiUG",
        "outputId": "7a760b1a-9001-4966-bf1b-7e14458526b5"
      },
      "outputs": [
        {
          "data": {
            "text/html": [
              "<div>\n",
              "<style scoped>\n",
              "    .dataframe tbody tr th:only-of-type {\n",
              "        vertical-align: middle;\n",
              "    }\n",
              "\n",
              "    .dataframe tbody tr th {\n",
              "        vertical-align: top;\n",
              "    }\n",
              "\n",
              "    .dataframe thead th {\n",
              "        text-align: right;\n",
              "    }\n",
              "</style>\n",
              "<table border=\"1\" class=\"dataframe\">\n",
              "  <thead>\n",
              "    <tr style=\"text-align: right;\">\n",
              "      <th></th>\n",
              "      <th>user_id</th>\n",
              "      <th>item_id</th>\n",
              "      <th>rating</th>\n",
              "    </tr>\n",
              "  </thead>\n",
              "  <tbody>\n",
              "    <tr>\n",
              "      <th>0</th>\n",
              "      <td>945</td>\n",
              "      <td>172</td>\n",
              "      <td>5</td>\n",
              "    </tr>\n",
              "    <tr>\n",
              "      <th>1</th>\n",
              "      <td>945</td>\n",
              "      <td>133</td>\n",
              "      <td>1</td>\n",
              "    </tr>\n",
              "    <tr>\n",
              "      <th>2</th>\n",
              "      <td>196</td>\n",
              "      <td>242</td>\n",
              "      <td>3</td>\n",
              "    </tr>\n",
              "    <tr>\n",
              "      <th>3</th>\n",
              "      <td>186</td>\n",
              "      <td>302</td>\n",
              "      <td>3</td>\n",
              "    </tr>\n",
              "    <tr>\n",
              "      <th>4</th>\n",
              "      <td>22</td>\n",
              "      <td>377</td>\n",
              "      <td>1</td>\n",
              "    </tr>\n",
              "  </tbody>\n",
              "</table>\n",
              "</div>"
            ],
            "text/plain": [
              "   user_id  item_id  rating\n",
              "0      945      172       5\n",
              "1      945      133       1\n",
              "2      196      242       3\n",
              "3      186      302       3\n",
              "4       22      377       1"
            ]
          },
          "execution_count": 15,
          "metadata": {},
          "output_type": "execute_result"
        }
      ],
      "source": [
        "df = df.drop(labels='timestamp', axis=1)\n",
        "df.head()"
      ]
    },
    {
      "cell_type": "markdown",
      "metadata": {
        "id": "WMM1oDtqd-kI"
      },
      "source": [
        "Membuat variable yang berisi dataframe dengan judul"
      ]
    },
    {
      "cell_type": "code",
      "execution_count": null,
      "metadata": {
        "colab": {
          "base_uri": "https://localhost:8080/",
          "height": 414
        },
        "id": "wzs2aH8tct5N",
        "outputId": "7aaf8ae3-161c-4b3b-967f-4f7d090c8ff4"
      },
      "outputs": [
        {
          "data": {
            "text/html": [
              "<div>\n",
              "<style scoped>\n",
              "    .dataframe tbody tr th:only-of-type {\n",
              "        vertical-align: middle;\n",
              "    }\n",
              "\n",
              "    .dataframe tbody tr th {\n",
              "        vertical-align: top;\n",
              "    }\n",
              "\n",
              "    .dataframe thead th {\n",
              "        text-align: right;\n",
              "    }\n",
              "</style>\n",
              "<table border=\"1\" class=\"dataframe\">\n",
              "  <thead>\n",
              "    <tr style=\"text-align: right;\">\n",
              "      <th></th>\n",
              "      <th>user_id</th>\n",
              "      <th>item_id</th>\n",
              "      <th>rating</th>\n",
              "      <th>title</th>\n",
              "    </tr>\n",
              "  </thead>\n",
              "  <tbody>\n",
              "    <tr>\n",
              "      <th>0</th>\n",
              "      <td>945</td>\n",
              "      <td>172</td>\n",
              "      <td>5</td>\n",
              "      <td>Empire Strikes Back, The (1980)</td>\n",
              "    </tr>\n",
              "    <tr>\n",
              "      <th>1</th>\n",
              "      <td>213</td>\n",
              "      <td>172</td>\n",
              "      <td>5</td>\n",
              "      <td>Empire Strikes Back, The (1980)</td>\n",
              "    </tr>\n",
              "    <tr>\n",
              "      <th>2</th>\n",
              "      <td>92</td>\n",
              "      <td>172</td>\n",
              "      <td>4</td>\n",
              "      <td>Empire Strikes Back, The (1980)</td>\n",
              "    </tr>\n",
              "    <tr>\n",
              "      <th>3</th>\n",
              "      <td>77</td>\n",
              "      <td>172</td>\n",
              "      <td>3</td>\n",
              "      <td>Empire Strikes Back, The (1980)</td>\n",
              "    </tr>\n",
              "    <tr>\n",
              "      <th>4</th>\n",
              "      <td>194</td>\n",
              "      <td>172</td>\n",
              "      <td>3</td>\n",
              "      <td>Empire Strikes Back, The (1980)</td>\n",
              "    </tr>\n",
              "    <tr>\n",
              "      <th>...</th>\n",
              "      <td>...</td>\n",
              "      <td>...</td>\n",
              "      <td>...</td>\n",
              "      <td>...</td>\n",
              "    </tr>\n",
              "    <tr>\n",
              "      <th>99997</th>\n",
              "      <td>840</td>\n",
              "      <td>1674</td>\n",
              "      <td>4</td>\n",
              "      <td>Mamma Roma (1962)</td>\n",
              "    </tr>\n",
              "    <tr>\n",
              "      <th>99998</th>\n",
              "      <td>655</td>\n",
              "      <td>1640</td>\n",
              "      <td>3</td>\n",
              "      <td>Eighth Day, The (1996)</td>\n",
              "    </tr>\n",
              "    <tr>\n",
              "      <th>99999</th>\n",
              "      <td>655</td>\n",
              "      <td>1637</td>\n",
              "      <td>3</td>\n",
              "      <td>Girls Town (1996)</td>\n",
              "    </tr>\n",
              "    <tr>\n",
              "      <th>100000</th>\n",
              "      <td>655</td>\n",
              "      <td>1630</td>\n",
              "      <td>3</td>\n",
              "      <td>Silence of the Palace, The (Saimt el Qusur) (1...</td>\n",
              "    </tr>\n",
              "    <tr>\n",
              "      <th>100001</th>\n",
              "      <td>655</td>\n",
              "      <td>1641</td>\n",
              "      <td>3</td>\n",
              "      <td>Dadetown (1995)</td>\n",
              "    </tr>\n",
              "  </tbody>\n",
              "</table>\n",
              "<p>100002 rows × 4 columns</p>\n",
              "</div>"
            ],
            "text/plain": [
              "        user_id  ...                                              title\n",
              "0           945  ...                    Empire Strikes Back, The (1980)\n",
              "1           213  ...                    Empire Strikes Back, The (1980)\n",
              "2            92  ...                    Empire Strikes Back, The (1980)\n",
              "3            77  ...                    Empire Strikes Back, The (1980)\n",
              "4           194  ...                    Empire Strikes Back, The (1980)\n",
              "...         ...  ...                                                ...\n",
              "99997       840  ...                                  Mamma Roma (1962)\n",
              "99998       655  ...                             Eighth Day, The (1996)\n",
              "99999       655  ...                                  Girls Town (1996)\n",
              "100000      655  ...  Silence of the Palace, The (Saimt el Qusur) (1...\n",
              "100001      655  ...                                    Dadetown (1995)\n",
              "\n",
              "[100002 rows x 4 columns]"
            ]
          },
          "execution_count": 16,
          "metadata": {},
          "output_type": "execute_result"
        }
      ],
      "source": [
        "title_name = pd.merge(df,title,on='item_id')\n",
        "title_name"
      ]
    },
    {
      "cell_type": "markdown",
      "metadata": {
        "id": "LHCj-cHXjIJQ"
      },
      "source": [
        "Cek missing value"
      ]
    },
    {
      "cell_type": "code",
      "execution_count": null,
      "metadata": {
        "colab": {
          "base_uri": "https://localhost:8080/"
        },
        "id": "Fy6shuMGebxa",
        "outputId": "68d404dd-420a-46cb-d1fd-acd8c2ddfb58"
      },
      "outputs": [
        {
          "data": {
            "text/plain": [
              "user_id    0\n",
              "item_id    0\n",
              "rating     0\n",
              "title      0\n",
              "dtype: int64"
            ]
          },
          "execution_count": 22,
          "metadata": {},
          "output_type": "execute_result"
        }
      ],
      "source": [
        "title_name.isnull().sum()"
      ]
    },
    {
      "cell_type": "markdown",
      "metadata": {
        "id": "Ct4wxM_BjMKq"
      },
      "source": [
        "Membuat variable fix_title dan sort berdasarkan item_id"
      ]
    },
    {
      "cell_type": "code",
      "execution_count": null,
      "metadata": {
        "colab": {
          "base_uri": "https://localhost:8080/",
          "height": 414
        },
        "id": "X7mQLmpReifK",
        "outputId": "34dd8571-4abb-4d15-beff-23dc1f834acd"
      },
      "outputs": [
        {
          "data": {
            "text/html": [
              "<div>\n",
              "<style scoped>\n",
              "    .dataframe tbody tr th:only-of-type {\n",
              "        vertical-align: middle;\n",
              "    }\n",
              "\n",
              "    .dataframe tbody tr th {\n",
              "        vertical-align: top;\n",
              "    }\n",
              "\n",
              "    .dataframe thead th {\n",
              "        text-align: right;\n",
              "    }\n",
              "</style>\n",
              "<table border=\"1\" class=\"dataframe\">\n",
              "  <thead>\n",
              "    <tr style=\"text-align: right;\">\n",
              "      <th></th>\n",
              "      <th>user_id</th>\n",
              "      <th>item_id</th>\n",
              "      <th>rating</th>\n",
              "      <th>title</th>\n",
              "    </tr>\n",
              "  </thead>\n",
              "  <tbody>\n",
              "    <tr>\n",
              "      <th>3937</th>\n",
              "      <td>308</td>\n",
              "      <td>1</td>\n",
              "      <td>4</td>\n",
              "      <td>Toy Story (1995)</td>\n",
              "    </tr>\n",
              "    <tr>\n",
              "      <th>4247</th>\n",
              "      <td>893</td>\n",
              "      <td>1</td>\n",
              "      <td>5</td>\n",
              "      <td>Toy Story (1995)</td>\n",
              "    </tr>\n",
              "    <tr>\n",
              "      <th>4246</th>\n",
              "      <td>336</td>\n",
              "      <td>1</td>\n",
              "      <td>3</td>\n",
              "      <td>Toy Story (1995)</td>\n",
              "    </tr>\n",
              "    <tr>\n",
              "      <th>4245</th>\n",
              "      <td>303</td>\n",
              "      <td>1</td>\n",
              "      <td>5</td>\n",
              "      <td>Toy Story (1995)</td>\n",
              "    </tr>\n",
              "    <tr>\n",
              "      <th>4244</th>\n",
              "      <td>886</td>\n",
              "      <td>1</td>\n",
              "      <td>4</td>\n",
              "      <td>Toy Story (1995)</td>\n",
              "    </tr>\n",
              "    <tr>\n",
              "      <th>...</th>\n",
              "      <td>...</td>\n",
              "      <td>...</td>\n",
              "      <td>...</td>\n",
              "      <td>...</td>\n",
              "    </tr>\n",
              "    <tr>\n",
              "      <th>99960</th>\n",
              "      <td>863</td>\n",
              "      <td>1678</td>\n",
              "      <td>1</td>\n",
              "      <td>Mat' i syn (1997)</td>\n",
              "    </tr>\n",
              "    <tr>\n",
              "      <th>99940</th>\n",
              "      <td>863</td>\n",
              "      <td>1679</td>\n",
              "      <td>3</td>\n",
              "      <td>B. Monkey (1998)</td>\n",
              "    </tr>\n",
              "    <tr>\n",
              "      <th>99967</th>\n",
              "      <td>863</td>\n",
              "      <td>1680</td>\n",
              "      <td>2</td>\n",
              "      <td>Sliding Doors (1998)</td>\n",
              "    </tr>\n",
              "    <tr>\n",
              "      <th>99986</th>\n",
              "      <td>896</td>\n",
              "      <td>1681</td>\n",
              "      <td>3</td>\n",
              "      <td>You So Crazy (1994)</td>\n",
              "    </tr>\n",
              "    <tr>\n",
              "      <th>99996</th>\n",
              "      <td>916</td>\n",
              "      <td>1682</td>\n",
              "      <td>3</td>\n",
              "      <td>Scream of Stone (Schrei aus Stein) (1991)</td>\n",
              "    </tr>\n",
              "  </tbody>\n",
              "</table>\n",
              "<p>100002 rows × 4 columns</p>\n",
              "</div>"
            ],
            "text/plain": [
              "       user_id  item_id  rating                                      title\n",
              "3937       308        1       4                           Toy Story (1995)\n",
              "4247       893        1       5                           Toy Story (1995)\n",
              "4246       336        1       3                           Toy Story (1995)\n",
              "4245       303        1       5                           Toy Story (1995)\n",
              "4244       886        1       4                           Toy Story (1995)\n",
              "...        ...      ...     ...                                        ...\n",
              "99960      863     1678       1                          Mat' i syn (1997)\n",
              "99940      863     1679       3                           B. Monkey (1998)\n",
              "99967      863     1680       2                       Sliding Doors (1998)\n",
              "99986      896     1681       3                        You So Crazy (1994)\n",
              "99996      916     1682       3  Scream of Stone (Schrei aus Stein) (1991)\n",
              "\n",
              "[100002 rows x 4 columns]"
            ]
          },
          "execution_count": 23,
          "metadata": {},
          "output_type": "execute_result"
        }
      ],
      "source": [
        "fix_title = title_name.sort_values('item_id', ascending=True)\n",
        "fix_title"
      ]
    },
    {
      "cell_type": "markdown",
      "metadata": {
        "id": "LZSupKMzjXrT"
      },
      "source": [
        "Menghitung jumlah unik item_id"
      ]
    },
    {
      "cell_type": "code",
      "execution_count": null,
      "metadata": {
        "colab": {
          "base_uri": "https://localhost:8080/"
        },
        "id": "4pIbMJlrfD-I",
        "outputId": "64be29b8-9904-4c44-c994-33160715c116"
      },
      "outputs": [
        {
          "data": {
            "text/plain": [
              "1682"
            ]
          },
          "execution_count": 24,
          "metadata": {},
          "output_type": "execute_result"
        }
      ],
      "source": [
        "len(fix_title.item_id.unique())"
      ]
    },
    {
      "cell_type": "markdown",
      "metadata": {
        "id": "clewzOXwjuIT"
      },
      "source": [
        "Menghilangkan duplikat pada variable fix_title"
      ]
    },
    {
      "cell_type": "code",
      "execution_count": null,
      "metadata": {
        "colab": {
          "base_uri": "https://localhost:8080/",
          "height": 414
        },
        "id": "bN1wZP8Efz0B",
        "outputId": "50f097ca-6aa4-4878-9ee6-869346fc8926"
      },
      "outputs": [
        {
          "data": {
            "text/html": [
              "<div>\n",
              "<style scoped>\n",
              "    .dataframe tbody tr th:only-of-type {\n",
              "        vertical-align: middle;\n",
              "    }\n",
              "\n",
              "    .dataframe tbody tr th {\n",
              "        vertical-align: top;\n",
              "    }\n",
              "\n",
              "    .dataframe thead th {\n",
              "        text-align: right;\n",
              "    }\n",
              "</style>\n",
              "<table border=\"1\" class=\"dataframe\">\n",
              "  <thead>\n",
              "    <tr style=\"text-align: right;\">\n",
              "      <th></th>\n",
              "      <th>user_id</th>\n",
              "      <th>item_id</th>\n",
              "      <th>rating</th>\n",
              "      <th>title</th>\n",
              "    </tr>\n",
              "  </thead>\n",
              "  <tbody>\n",
              "    <tr>\n",
              "      <th>3937</th>\n",
              "      <td>308</td>\n",
              "      <td>1</td>\n",
              "      <td>4</td>\n",
              "      <td>Toy Story (1995)</td>\n",
              "    </tr>\n",
              "    <tr>\n",
              "      <th>24328</th>\n",
              "      <td>442</td>\n",
              "      <td>2</td>\n",
              "      <td>3</td>\n",
              "      <td>GoldenEye (1995)</td>\n",
              "    </tr>\n",
              "    <tr>\n",
              "      <th>35731</th>\n",
              "      <td>291</td>\n",
              "      <td>3</td>\n",
              "      <td>3</td>\n",
              "      <td>Four Rooms (1995)</td>\n",
              "    </tr>\n",
              "    <tr>\n",
              "      <th>7508</th>\n",
              "      <td>293</td>\n",
              "      <td>4</td>\n",
              "      <td>4</td>\n",
              "      <td>Get Shorty (1995)</td>\n",
              "    </tr>\n",
              "    <tr>\n",
              "      <th>12464</th>\n",
              "      <td>741</td>\n",
              "      <td>5</td>\n",
              "      <td>3</td>\n",
              "      <td>Copycat (1995)</td>\n",
              "    </tr>\n",
              "    <tr>\n",
              "      <th>...</th>\n",
              "      <td>...</td>\n",
              "      <td>...</td>\n",
              "      <td>...</td>\n",
              "      <td>...</td>\n",
              "    </tr>\n",
              "    <tr>\n",
              "      <th>99960</th>\n",
              "      <td>863</td>\n",
              "      <td>1678</td>\n",
              "      <td>1</td>\n",
              "      <td>Mat' i syn (1997)</td>\n",
              "    </tr>\n",
              "    <tr>\n",
              "      <th>99940</th>\n",
              "      <td>863</td>\n",
              "      <td>1679</td>\n",
              "      <td>3</td>\n",
              "      <td>B. Monkey (1998)</td>\n",
              "    </tr>\n",
              "    <tr>\n",
              "      <th>99967</th>\n",
              "      <td>863</td>\n",
              "      <td>1680</td>\n",
              "      <td>2</td>\n",
              "      <td>Sliding Doors (1998)</td>\n",
              "    </tr>\n",
              "    <tr>\n",
              "      <th>99986</th>\n",
              "      <td>896</td>\n",
              "      <td>1681</td>\n",
              "      <td>3</td>\n",
              "      <td>You So Crazy (1994)</td>\n",
              "    </tr>\n",
              "    <tr>\n",
              "      <th>99996</th>\n",
              "      <td>916</td>\n",
              "      <td>1682</td>\n",
              "      <td>3</td>\n",
              "      <td>Scream of Stone (Schrei aus Stein) (1991)</td>\n",
              "    </tr>\n",
              "  </tbody>\n",
              "</table>\n",
              "<p>1682 rows × 4 columns</p>\n",
              "</div>"
            ],
            "text/plain": [
              "       user_id  item_id  rating                                      title\n",
              "3937       308        1       4                           Toy Story (1995)\n",
              "24328      442        2       3                           GoldenEye (1995)\n",
              "35731      291        3       3                          Four Rooms (1995)\n",
              "7508       293        4       4                          Get Shorty (1995)\n",
              "12464      741        5       3                             Copycat (1995)\n",
              "...        ...      ...     ...                                        ...\n",
              "99960      863     1678       1                          Mat' i syn (1997)\n",
              "99940      863     1679       3                           B. Monkey (1998)\n",
              "99967      863     1680       2                       Sliding Doors (1998)\n",
              "99986      896     1681       3                        You So Crazy (1994)\n",
              "99996      916     1682       3  Scream of Stone (Schrei aus Stein) (1991)\n",
              "\n",
              "[1682 rows x 4 columns]"
            ]
          },
          "execution_count": 25,
          "metadata": {},
          "output_type": "execute_result"
        }
      ],
      "source": [
        "fix_title = fix_title.drop_duplicates('item_id')\n",
        "fix_title"
      ]
    },
    {
      "cell_type": "markdown",
      "metadata": {
        "id": "-GJBKt5pkHHK"
      },
      "source": [
        "Konversi data series menjadi list menggunakan tolist dari library numpy"
      ]
    },
    {
      "cell_type": "code",
      "execution_count": null,
      "metadata": {
        "colab": {
          "base_uri": "https://localhost:8080/"
        },
        "id": "O9fxahDUgQy9",
        "outputId": "faad2009-4fad-499b-ce3e-bd9a25649155"
      },
      "outputs": [
        {
          "name": "stdout",
          "output_type": "stream",
          "text": [
            "1682\n",
            "1682\n",
            "1682\n"
          ]
        }
      ],
      "source": [
        "title_id = fix_title['item_id'].tolist()\n",
        "title_name = fix_title['title'].tolist()\n",
        "rating_title = fix_title['rating'].tolist()\n",
        "print(len(title_id))\n",
        "print(len(title_name))\n",
        "print(len(rating_title))"
      ]
    },
    {
      "cell_type": "markdown",
      "metadata": {
        "id": "p6vCkS1ckK53"
      },
      "source": [
        "Membuat dictionary key value untuk title_id, title_name, dan rating_title"
      ]
    },
    {
      "cell_type": "code",
      "execution_count": null,
      "metadata": {
        "colab": {
          "base_uri": "https://localhost:8080/",
          "height": 414
        },
        "id": "VgULapBmgrQp",
        "outputId": "52f37f68-8a11-4dd4-bfa6-f0fa8ce65ff5"
      },
      "outputs": [
        {
          "data": {
            "text/html": [
              "<div>\n",
              "<style scoped>\n",
              "    .dataframe tbody tr th:only-of-type {\n",
              "        vertical-align: middle;\n",
              "    }\n",
              "\n",
              "    .dataframe tbody tr th {\n",
              "        vertical-align: top;\n",
              "    }\n",
              "\n",
              "    .dataframe thead th {\n",
              "        text-align: right;\n",
              "    }\n",
              "</style>\n",
              "<table border=\"1\" class=\"dataframe\">\n",
              "  <thead>\n",
              "    <tr style=\"text-align: right;\">\n",
              "      <th></th>\n",
              "      <th>id</th>\n",
              "      <th>title_name</th>\n",
              "      <th>rating_title</th>\n",
              "    </tr>\n",
              "  </thead>\n",
              "  <tbody>\n",
              "    <tr>\n",
              "      <th>0</th>\n",
              "      <td>1</td>\n",
              "      <td>Toy Story (1995)</td>\n",
              "      <td>4</td>\n",
              "    </tr>\n",
              "    <tr>\n",
              "      <th>1</th>\n",
              "      <td>2</td>\n",
              "      <td>GoldenEye (1995)</td>\n",
              "      <td>3</td>\n",
              "    </tr>\n",
              "    <tr>\n",
              "      <th>2</th>\n",
              "      <td>3</td>\n",
              "      <td>Four Rooms (1995)</td>\n",
              "      <td>3</td>\n",
              "    </tr>\n",
              "    <tr>\n",
              "      <th>3</th>\n",
              "      <td>4</td>\n",
              "      <td>Get Shorty (1995)</td>\n",
              "      <td>4</td>\n",
              "    </tr>\n",
              "    <tr>\n",
              "      <th>4</th>\n",
              "      <td>5</td>\n",
              "      <td>Copycat (1995)</td>\n",
              "      <td>3</td>\n",
              "    </tr>\n",
              "    <tr>\n",
              "      <th>...</th>\n",
              "      <td>...</td>\n",
              "      <td>...</td>\n",
              "      <td>...</td>\n",
              "    </tr>\n",
              "    <tr>\n",
              "      <th>1677</th>\n",
              "      <td>1678</td>\n",
              "      <td>Mat' i syn (1997)</td>\n",
              "      <td>1</td>\n",
              "    </tr>\n",
              "    <tr>\n",
              "      <th>1678</th>\n",
              "      <td>1679</td>\n",
              "      <td>B. Monkey (1998)</td>\n",
              "      <td>3</td>\n",
              "    </tr>\n",
              "    <tr>\n",
              "      <th>1679</th>\n",
              "      <td>1680</td>\n",
              "      <td>Sliding Doors (1998)</td>\n",
              "      <td>2</td>\n",
              "    </tr>\n",
              "    <tr>\n",
              "      <th>1680</th>\n",
              "      <td>1681</td>\n",
              "      <td>You So Crazy (1994)</td>\n",
              "      <td>3</td>\n",
              "    </tr>\n",
              "    <tr>\n",
              "      <th>1681</th>\n",
              "      <td>1682</td>\n",
              "      <td>Scream of Stone (Schrei aus Stein) (1991)</td>\n",
              "      <td>3</td>\n",
              "    </tr>\n",
              "  </tbody>\n",
              "</table>\n",
              "<p>1682 rows × 3 columns</p>\n",
              "</div>"
            ],
            "text/plain": [
              "        id                                 title_name  rating_title\n",
              "0        1                           Toy Story (1995)             4\n",
              "1        2                           GoldenEye (1995)             3\n",
              "2        3                          Four Rooms (1995)             3\n",
              "3        4                          Get Shorty (1995)             4\n",
              "4        5                             Copycat (1995)             3\n",
              "...    ...                                        ...           ...\n",
              "1677  1678                          Mat' i syn (1997)             1\n",
              "1678  1679                           B. Monkey (1998)             3\n",
              "1679  1680                       Sliding Doors (1998)             2\n",
              "1680  1681                        You So Crazy (1994)             3\n",
              "1681  1682  Scream of Stone (Schrei aus Stein) (1991)             3\n",
              "\n",
              "[1682 rows x 3 columns]"
            ]
          },
          "execution_count": 27,
          "metadata": {},
          "output_type": "execute_result"
        }
      ],
      "source": [
        "title_new = pd.DataFrame({\n",
        "    'id': title_id,\n",
        "    'title_name': title_name,\n",
        "    'rating_title' : rating_title,\n",
        "})\n",
        "title_new"
      ]
    },
    {
      "cell_type": "markdown",
      "metadata": {
        "id": "HIcRTyJRVL_l"
      },
      "source": [
        "Encode fitur user_id dan Item_id menjadi index integer"
      ]
    },
    {
      "cell_type": "code",
      "execution_count": null,
      "metadata": {
        "id": "7L2YgwJjNMBA"
      },
      "outputs": [],
      "source": [
        "user_ids = df['user_id'].unique().tolist()\n",
        "user_to_user_encoded = {x: i for i, x in enumerate(user_ids)}\n",
        "user_encoded_to_user = {i: x for i, x in enumerate(user_ids)}\n",
        "title_ids = df['item_id'].unique().tolist()\n",
        "title_to_title_encoded = {x: i for i, x in enumerate(title_ids)}\n",
        "title_encoded_to_title = {i: x for i, x in enumerate(title_ids)}"
      ]
    },
    {
      "cell_type": "markdown",
      "metadata": {
        "id": "wOtm1kabV1KF"
      },
      "source": [
        "Mapping user_id dan Item_id ke dataframe"
      ]
    },
    {
      "cell_type": "code",
      "execution_count": null,
      "metadata": {
        "id": "3sCxwRv4N_g8"
      },
      "outputs": [],
      "source": [
        "df['user'] = df['user_id'].map(user_to_user_encoded)\n",
        "df['titles'] = df['item_id'].map(title_to_title_encoded)"
      ]
    },
    {
      "cell_type": "markdown",
      "metadata": {
        "id": "VODJKOoRXteS"
      },
      "source": [
        "Mengubah data rating menjadi float"
      ]
    },
    {
      "cell_type": "code",
      "execution_count": null,
      "metadata": {
        "id": "ncmmaTCYXzKO"
      },
      "outputs": [],
      "source": [
        "import numpy as np\n",
        "df['rating'] = df['rating'].values.astype(np.float32)"
      ]
    },
    {
      "cell_type": "markdown",
      "metadata": {
        "id": "BgWipP34YDQH"
      },
      "source": [
        "Data checking"
      ]
    },
    {
      "cell_type": "code",
      "execution_count": null,
      "metadata": {
        "colab": {
          "base_uri": "https://localhost:8080/"
        },
        "id": "OA0_22s5ODtT",
        "outputId": "bb8d8f15-2d84-4a9e-f067-ea38d1cbfbe3"
      },
      "outputs": [
        {
          "name": "stdout",
          "output_type": "stream",
          "text": [
            "944\n",
            "1682\n",
            "Number of User: 944, Number of titles: 1682, Min Rating: 1.0, Max Rating: 5.0\n"
          ]
        }
      ],
      "source": [
        "num_users = len(user_to_user_encoded)\n",
        "print(num_users)\n",
        "\n",
        "num_titles = len(title_encoded_to_title)\n",
        "print(num_titles)\n",
        "\n",
        "min_rating = min(df['rating'])\n",
        "max_rating = max(df['rating'])\n",
        " \n",
        "print('Number of User: {}, Number of titles: {}, Min Rating: {}, Max Rating: {}'.format(\n",
        "    num_users, num_titles, min_rating, max_rating\n",
        "))"
      ]
    },
    {
      "cell_type": "markdown",
      "metadata": {
        "id": "bOjM_RNrYMuP"
      },
      "source": [
        "# Train test split"
      ]
    },
    {
      "cell_type": "markdown",
      "metadata": {
        "id": "GWcDXAPRYSIX"
      },
      "source": [
        "Pengacakan data"
      ]
    },
    {
      "cell_type": "code",
      "execution_count": null,
      "metadata": {
        "colab": {
          "base_uri": "https://localhost:8080/",
          "height": 414
        },
        "id": "exVV9Zexg8Ic",
        "outputId": "10ca64ec-d27d-484f-a04c-8f8443c52913"
      },
      "outputs": [
        {
          "data": {
            "text/html": [
              "<div>\n",
              "<style scoped>\n",
              "    .dataframe tbody tr th:only-of-type {\n",
              "        vertical-align: middle;\n",
              "    }\n",
              "\n",
              "    .dataframe tbody tr th {\n",
              "        vertical-align: top;\n",
              "    }\n",
              "\n",
              "    .dataframe thead th {\n",
              "        text-align: right;\n",
              "    }\n",
              "</style>\n",
              "<table border=\"1\" class=\"dataframe\">\n",
              "  <thead>\n",
              "    <tr style=\"text-align: right;\">\n",
              "      <th></th>\n",
              "      <th>user_id</th>\n",
              "      <th>item_id</th>\n",
              "      <th>rating</th>\n",
              "      <th>user</th>\n",
              "      <th>titles</th>\n",
              "    </tr>\n",
              "  </thead>\n",
              "  <tbody>\n",
              "    <tr>\n",
              "      <th>62004</th>\n",
              "      <td>327</td>\n",
              "      <td>184</td>\n",
              "      <td>3.0</td>\n",
              "      <td>312</td>\n",
              "      <td>373</td>\n",
              "    </tr>\n",
              "    <tr>\n",
              "      <th>58589</th>\n",
              "      <td>665</td>\n",
              "      <td>109</td>\n",
              "      <td>4.0</td>\n",
              "      <td>661</td>\n",
              "      <td>199</td>\n",
              "    </tr>\n",
              "    <tr>\n",
              "      <th>1956</th>\n",
              "      <td>224</td>\n",
              "      <td>20</td>\n",
              "      <td>1.0</td>\n",
              "      <td>15</td>\n",
              "      <td>61</td>\n",
              "    </tr>\n",
              "    <tr>\n",
              "      <th>11529</th>\n",
              "      <td>87</td>\n",
              "      <td>25</td>\n",
              "      <td>4.0</td>\n",
              "      <td>55</td>\n",
              "      <td>88</td>\n",
              "    </tr>\n",
              "    <tr>\n",
              "      <th>39495</th>\n",
              "      <td>378</td>\n",
              "      <td>1531</td>\n",
              "      <td>4.0</td>\n",
              "      <td>370</td>\n",
              "      <td>1347</td>\n",
              "    </tr>\n",
              "    <tr>\n",
              "      <th>...</th>\n",
              "      <td>...</td>\n",
              "      <td>...</td>\n",
              "      <td>...</td>\n",
              "      <td>...</td>\n",
              "      <td>...</td>\n",
              "    </tr>\n",
              "    <tr>\n",
              "      <th>6265</th>\n",
              "      <td>316</td>\n",
              "      <td>735</td>\n",
              "      <td>4.0</td>\n",
              "      <td>284</td>\n",
              "      <td>1016</td>\n",
              "    </tr>\n",
              "    <tr>\n",
              "      <th>54886</th>\n",
              "      <td>434</td>\n",
              "      <td>743</td>\n",
              "      <td>1.0</td>\n",
              "      <td>434</td>\n",
              "      <td>768</td>\n",
              "    </tr>\n",
              "    <tr>\n",
              "      <th>76820</th>\n",
              "      <td>561</td>\n",
              "      <td>235</td>\n",
              "      <td>3.0</td>\n",
              "      <td>557</td>\n",
              "      <td>182</td>\n",
              "    </tr>\n",
              "    <tr>\n",
              "      <th>860</th>\n",
              "      <td>235</td>\n",
              "      <td>70</td>\n",
              "      <td>5.0</td>\n",
              "      <td>196</td>\n",
              "      <td>423</td>\n",
              "    </tr>\n",
              "    <tr>\n",
              "      <th>15795</th>\n",
              "      <td>13</td>\n",
              "      <td>805</td>\n",
              "      <td>4.0</td>\n",
              "      <td>59</td>\n",
              "      <td>981</td>\n",
              "    </tr>\n",
              "  </tbody>\n",
              "</table>\n",
              "<p>100002 rows × 5 columns</p>\n",
              "</div>"
            ],
            "text/plain": [
              "       user_id  item_id  rating  user  titles\n",
              "62004      327      184     3.0   312     373\n",
              "58589      665      109     4.0   661     199\n",
              "1956       224       20     1.0    15      61\n",
              "11529       87       25     4.0    55      88\n",
              "39495      378     1531     4.0   370    1347\n",
              "...        ...      ...     ...   ...     ...\n",
              "6265       316      735     4.0   284    1016\n",
              "54886      434      743     1.0   434     768\n",
              "76820      561      235     3.0   557     182\n",
              "860        235       70     5.0   196     423\n",
              "15795       13      805     4.0    59     981\n",
              "\n",
              "[100002 rows x 5 columns]"
            ]
          },
          "execution_count": 32,
          "metadata": {},
          "output_type": "execute_result"
        }
      ],
      "source": [
        "df =df.sample(frac=1, random_state=42)\n",
        "df"
      ]
    },
    {
      "cell_type": "markdown",
      "metadata": {
        "id": "qxwa4e5tYnk-"
      },
      "source": [
        "Membuat variable x untuk mencocokan data user dan titles, dan variable y untuk membuat rating dari hasil"
      ]
    },
    {
      "cell_type": "code",
      "execution_count": null,
      "metadata": {
        "id": "WUZnvLk0YpiX"
      },
      "outputs": [],
      "source": [
        "x = df[['user', 'titles']].values\n",
        "y = df['rating'].apply(lambda x: (x - min_rating) / (max_rating - min_rating)).values"
      ]
    },
    {
      "cell_type": "markdown",
      "metadata": {
        "id": "5V6vTiGIZihw"
      },
      "source": [
        "Membagi data train sebesar 80% dan data validasi sebesar 20% total data"
      ]
    },
    {
      "cell_type": "code",
      "execution_count": null,
      "metadata": {
        "colab": {
          "base_uri": "https://localhost:8080/"
        },
        "id": "kTU_Gu10ObpY",
        "outputId": "9c029dae-72ad-4ac6-b1dc-ef9255c3e186"
      },
      "outputs": [
        {
          "name": "stdout",
          "output_type": "stream",
          "text": [
            "[[312 373]\n",
            " [661 199]\n",
            " [ 15  61]\n",
            " ...\n",
            " [557 182]\n",
            " [196 423]\n",
            " [ 59 981]] [0.5  0.75 0.   ... 0.5  1.   0.75]\n"
          ]
        }
      ],
      "source": [
        "train_indices = int(0.8 * df.shape[0])\n",
        "x_train, x_val, y_train, y_val = (\n",
        "    x[:train_indices],\n",
        "    x[train_indices:],\n",
        "    y[:train_indices],\n",
        "    y[train_indices:]\n",
        ")\n",
        "\n",
        "print(x, y)"
      ]
    },
    {
      "cell_type": "markdown",
      "metadata": {
        "id": "SdW5XCVFauPh"
      },
      "source": [
        "# Training model"
      ]
    },
    {
      "cell_type": "markdown",
      "metadata": {
        "id": "0NX9E9J8a5-S"
      },
      "source": [
        "Membuat class RecommenderNet dengan keras model class"
      ]
    },
    {
      "cell_type": "code",
      "execution_count": null,
      "metadata": {
        "id": "f9ajF-c1OnmY"
      },
      "outputs": [],
      "source": [
        "import tensorflow as tf\n",
        "from tensorflow import keras\n",
        "from tensorflow.keras import layers\n",
        "class RecommenderNet(tf.keras.Model):\n",
        " \n",
        "  def __init__(self, num_users, num_titles, embedding_size, **kwargs):\n",
        "    super(RecommenderNet, self).__init__(**kwargs)\n",
        "    self.num_users = num_users\n",
        "    self.num_titles = num_titles\n",
        "    self.embedding_size = embedding_size\n",
        "    self.user_embedding = layers.Embedding(\n",
        "        num_users,\n",
        "        embedding_size,\n",
        "        embeddings_initializer = 'he_normal',\n",
        "        embeddings_regularizer = keras.regularizers.l2(1e-6)\n",
        "    )\n",
        "    self.user_bias = layers.Embedding(num_users, 1)\n",
        "    self.titles_embedding = layers.Embedding(\n",
        "        num_titles,\n",
        "        embedding_size,\n",
        "        embeddings_initializer = 'he_normal',\n",
        "        embeddings_regularizer = keras.regularizers.l2(1e-6)\n",
        "    )\n",
        "    self.titles_bias = layers.Embedding(num_titles, 1)\n",
        " \n",
        "  def call(self, inputs):\n",
        "    user_vector = self.user_embedding(inputs[:,0])\n",
        "    user_bias = self.user_bias(inputs[:, 0])\n",
        "    titles_vector = self.titles_embedding(inputs[:, 1])\n",
        "    titles_bias = self.titles_bias(inputs[:, 1])\n",
        " \n",
        "    dot_user_titles = tf.tensordot(user_vector, titles_vector, 2) \n",
        " \n",
        "    x = dot_user_titles + user_bias + titles_bias\n",
        "    \n",
        "    return tf.nn.sigmoid(x)"
      ]
    },
    {
      "cell_type": "markdown",
      "metadata": {
        "id": "3uwC0lgEbx0C"
      },
      "source": [
        "Inisialisasi model"
      ]
    },
    {
      "cell_type": "code",
      "execution_count": null,
      "metadata": {
        "id": "2BfTZXQ4jDqG"
      },
      "outputs": [],
      "source": [
        "model = RecommenderNet(num_users, num_titles, 50)\n",
        "\n",
        "model.compile(\n",
        "    loss = tf.keras.losses.BinaryCrossentropy(),\n",
        "    optimizer = keras.optimizers.Adam(learning_rate=0.0001),\n",
        "    metrics=[tf.keras.metrics.RootMeanSquaredError()]\n",
        ")"
      ]
    },
    {
      "cell_type": "markdown",
      "metadata": {
        "id": "sm0lwtEWb1DD"
      },
      "source": [
        "Memulai training"
      ]
    },
    {
      "cell_type": "code",
      "execution_count": null,
      "metadata": {
        "colab": {
          "base_uri": "https://localhost:8080/"
        },
        "id": "uH0CjCJHPCm0",
        "outputId": "eb9b5055-16d9-45b5-86c8-8c749afbd06c"
      },
      "outputs": [
        {
          "name": "stdout",
          "output_type": "stream",
          "text": [
            "Epoch 1/100\n",
            "1601/1601 [==============================] - 6s 3ms/step - loss: 0.6896 - root_mean_squared_error: 0.3076 - val_loss: 0.6853 - val_root_mean_squared_error: 0.3063\n",
            "Epoch 2/100\n",
            "1601/1601 [==============================] - 4s 3ms/step - loss: 0.6705 - root_mean_squared_error: 0.2918 - val_loss: 0.6698 - val_root_mean_squared_error: 0.2935\n",
            "Epoch 3/100\n",
            "1601/1601 [==============================] - 4s 3ms/step - loss: 0.6538 - root_mean_squared_error: 0.2775 - val_loss: 0.6537 - val_root_mean_squared_error: 0.2798\n",
            "Epoch 4/100\n",
            "1601/1601 [==============================] - 4s 3ms/step - loss: 0.6475 - root_mean_squared_error: 0.2722 - val_loss: 0.6494 - val_root_mean_squared_error: 0.2760\n",
            "Epoch 5/100\n",
            "1601/1601 [==============================] - 4s 3ms/step - loss: 0.6442 - root_mean_squared_error: 0.2694 - val_loss: 0.6464 - val_root_mean_squared_error: 0.2735\n",
            "Epoch 6/100\n",
            "1601/1601 [==============================] - 4s 3ms/step - loss: 0.6414 - root_mean_squared_error: 0.2669 - val_loss: 0.6438 - val_root_mean_squared_error: 0.2712\n",
            "Epoch 7/100\n",
            "1601/1601 [==============================] - 5s 3ms/step - loss: 0.6387 - root_mean_squared_error: 0.2646 - val_loss: 0.6412 - val_root_mean_squared_error: 0.2689\n",
            "Epoch 8/100\n",
            "1601/1601 [==============================] - 5s 3ms/step - loss: 0.6365 - root_mean_squared_error: 0.2627 - val_loss: 0.6395 - val_root_mean_squared_error: 0.2674\n",
            "Epoch 9/100\n",
            "1601/1601 [==============================] - 4s 3ms/step - loss: 0.6340 - root_mean_squared_error: 0.2604 - val_loss: 0.6371 - val_root_mean_squared_error: 0.2653\n",
            "Epoch 10/100\n",
            "1601/1601 [==============================] - 4s 3ms/step - loss: 0.6319 - root_mean_squared_error: 0.2586 - val_loss: 0.6347 - val_root_mean_squared_error: 0.2632\n",
            "Epoch 11/100\n",
            "1601/1601 [==============================] - 5s 3ms/step - loss: 0.6299 - root_mean_squared_error: 0.2568 - val_loss: 0.6331 - val_root_mean_squared_error: 0.2618\n",
            "Epoch 12/100\n",
            "1601/1601 [==============================] - 4s 3ms/step - loss: 0.6282 - root_mean_squared_error: 0.2553 - val_loss: 0.6310 - val_root_mean_squared_error: 0.2599\n",
            "Epoch 13/100\n",
            "1601/1601 [==============================] - 4s 3ms/step - loss: 0.6264 - root_mean_squared_error: 0.2537 - val_loss: 0.6296 - val_root_mean_squared_error: 0.2587\n",
            "Epoch 14/100\n",
            "1601/1601 [==============================] - 5s 3ms/step - loss: 0.6247 - root_mean_squared_error: 0.2522 - val_loss: 0.6279 - val_root_mean_squared_error: 0.2572\n",
            "Epoch 15/100\n",
            "1601/1601 [==============================] - 5s 3ms/step - loss: 0.6232 - root_mean_squared_error: 0.2508 - val_loss: 0.6267 - val_root_mean_squared_error: 0.2562\n",
            "Epoch 16/100\n",
            "1601/1601 [==============================] - 5s 3ms/step - loss: 0.6220 - root_mean_squared_error: 0.2498 - val_loss: 0.6252 - val_root_mean_squared_error: 0.2548\n",
            "Epoch 17/100\n",
            "1601/1601 [==============================] - 5s 3ms/step - loss: 0.6206 - root_mean_squared_error: 0.2485 - val_loss: 0.6243 - val_root_mean_squared_error: 0.2540\n",
            "Epoch 18/100\n",
            "1601/1601 [==============================] - 4s 3ms/step - loss: 0.6194 - root_mean_squared_error: 0.2474 - val_loss: 0.6230 - val_root_mean_squared_error: 0.2529\n",
            "Epoch 19/100\n",
            "1601/1601 [==============================] - 4s 3ms/step - loss: 0.6182 - root_mean_squared_error: 0.2463 - val_loss: 0.6219 - val_root_mean_squared_error: 0.2520\n",
            "Epoch 20/100\n",
            "1601/1601 [==============================] - 5s 3ms/step - loss: 0.6172 - root_mean_squared_error: 0.2455 - val_loss: 0.6207 - val_root_mean_squared_error: 0.2510\n",
            "Epoch 21/100\n",
            "1601/1601 [==============================] - 5s 3ms/step - loss: 0.6161 - root_mean_squared_error: 0.2445 - val_loss: 0.6202 - val_root_mean_squared_error: 0.2505\n",
            "Epoch 22/100\n",
            "1601/1601 [==============================] - 4s 3ms/step - loss: 0.6154 - root_mean_squared_error: 0.2439 - val_loss: 0.6192 - val_root_mean_squared_error: 0.2496\n",
            "Epoch 23/100\n",
            "1601/1601 [==============================] - 4s 3ms/step - loss: 0.6145 - root_mean_squared_error: 0.2430 - val_loss: 0.6184 - val_root_mean_squared_error: 0.2489\n",
            "Epoch 24/100\n",
            "1601/1601 [==============================] - 5s 3ms/step - loss: 0.6136 - root_mean_squared_error: 0.2423 - val_loss: 0.6177 - val_root_mean_squared_error: 0.2484\n",
            "Epoch 25/100\n",
            "1601/1601 [==============================] - 5s 3ms/step - loss: 0.6127 - root_mean_squared_error: 0.2415 - val_loss: 0.6169 - val_root_mean_squared_error: 0.2477\n",
            "Epoch 26/100\n",
            "1601/1601 [==============================] - 5s 3ms/step - loss: 0.6122 - root_mean_squared_error: 0.2410 - val_loss: 0.6161 - val_root_mean_squared_error: 0.2470\n",
            "Epoch 27/100\n",
            "1601/1601 [==============================] - 5s 3ms/step - loss: 0.6114 - root_mean_squared_error: 0.2403 - val_loss: 0.6159 - val_root_mean_squared_error: 0.2468\n",
            "Epoch 28/100\n",
            "1601/1601 [==============================] - 5s 3ms/step - loss: 0.6109 - root_mean_squared_error: 0.2398 - val_loss: 0.6151 - val_root_mean_squared_error: 0.2461\n",
            "Epoch 29/100\n",
            "1601/1601 [==============================] - 4s 3ms/step - loss: 0.6103 - root_mean_squared_error: 0.2394 - val_loss: 0.6146 - val_root_mean_squared_error: 0.2456\n",
            "Epoch 30/100\n",
            "1601/1601 [==============================] - 4s 3ms/step - loss: 0.6096 - root_mean_squared_error: 0.2387 - val_loss: 0.6141 - val_root_mean_squared_error: 0.2452\n",
            "Epoch 31/100\n",
            "1601/1601 [==============================] - 4s 3ms/step - loss: 0.6093 - root_mean_squared_error: 0.2384 - val_loss: 0.6137 - val_root_mean_squared_error: 0.2449\n",
            "Epoch 32/100\n",
            "1601/1601 [==============================] - 4s 3ms/step - loss: 0.6085 - root_mean_squared_error: 0.2377 - val_loss: 0.6133 - val_root_mean_squared_error: 0.2445\n",
            "Epoch 33/100\n",
            "1601/1601 [==============================] - 5s 3ms/step - loss: 0.6083 - root_mean_squared_error: 0.2375 - val_loss: 0.6128 - val_root_mean_squared_error: 0.2441\n",
            "Epoch 34/100\n",
            "1601/1601 [==============================] - 5s 3ms/step - loss: 0.6077 - root_mean_squared_error: 0.2370 - val_loss: 0.6123 - val_root_mean_squared_error: 0.2437\n",
            "Epoch 35/100\n",
            "1601/1601 [==============================] - 4s 3ms/step - loss: 0.6074 - root_mean_squared_error: 0.2368 - val_loss: 0.6120 - val_root_mean_squared_error: 0.2435\n",
            "Epoch 36/100\n",
            "1601/1601 [==============================] - 4s 3ms/step - loss: 0.6070 - root_mean_squared_error: 0.2364 - val_loss: 0.6117 - val_root_mean_squared_error: 0.2432\n",
            "Epoch 37/100\n",
            "1601/1601 [==============================] - 5s 3ms/step - loss: 0.6065 - root_mean_squared_error: 0.2359 - val_loss: 0.6113 - val_root_mean_squared_error: 0.2428\n",
            "Epoch 38/100\n",
            "1601/1601 [==============================] - 4s 3ms/step - loss: 0.6062 - root_mean_squared_error: 0.2357 - val_loss: 0.6110 - val_root_mean_squared_error: 0.2426\n",
            "Epoch 39/100\n",
            "1601/1601 [==============================] - 4s 3ms/step - loss: 0.6057 - root_mean_squared_error: 0.2352 - val_loss: 0.6108 - val_root_mean_squared_error: 0.2424\n",
            "Epoch 40/100\n",
            "1601/1601 [==============================] - 5s 3ms/step - loss: 0.6056 - root_mean_squared_error: 0.2351 - val_loss: 0.6106 - val_root_mean_squared_error: 0.2422\n",
            "Epoch 41/100\n",
            "1601/1601 [==============================] - 4s 3ms/step - loss: 0.6052 - root_mean_squared_error: 0.2348 - val_loss: 0.6102 - val_root_mean_squared_error: 0.2419\n",
            "Epoch 42/100\n",
            "1601/1601 [==============================] - 4s 3ms/step - loss: 0.6048 - root_mean_squared_error: 0.2344 - val_loss: 0.6100 - val_root_mean_squared_error: 0.2418\n",
            "Epoch 43/100\n",
            "1601/1601 [==============================] - 4s 3ms/step - loss: 0.6046 - root_mean_squared_error: 0.2342 - val_loss: 0.6096 - val_root_mean_squared_error: 0.2414\n",
            "Epoch 44/100\n",
            "1601/1601 [==============================] - 4s 3ms/step - loss: 0.6044 - root_mean_squared_error: 0.2340 - val_loss: 0.6096 - val_root_mean_squared_error: 0.2414\n",
            "Epoch 45/100\n",
            "1601/1601 [==============================] - 5s 3ms/step - loss: 0.6039 - root_mean_squared_error: 0.2336 - val_loss: 0.6092 - val_root_mean_squared_error: 0.2411\n",
            "Epoch 46/100\n",
            "1601/1601 [==============================] - 4s 3ms/step - loss: 0.6037 - root_mean_squared_error: 0.2334 - val_loss: 0.6091 - val_root_mean_squared_error: 0.2410\n",
            "Epoch 47/100\n",
            "1601/1601 [==============================] - 5s 3ms/step - loss: 0.6035 - root_mean_squared_error: 0.2332 - val_loss: 0.6088 - val_root_mean_squared_error: 0.2407\n",
            "Epoch 48/100\n",
            "1601/1601 [==============================] - 4s 3ms/step - loss: 0.6034 - root_mean_squared_error: 0.2332 - val_loss: 0.6086 - val_root_mean_squared_error: 0.2406\n",
            "Epoch 49/100\n",
            "1601/1601 [==============================] - 4s 3ms/step - loss: 0.6031 - root_mean_squared_error: 0.2329 - val_loss: 0.6083 - val_root_mean_squared_error: 0.2403\n",
            "Epoch 50/100\n",
            "1601/1601 [==============================] - 5s 3ms/step - loss: 0.6029 - root_mean_squared_error: 0.2327 - val_loss: 0.6084 - val_root_mean_squared_error: 0.2404\n",
            "Epoch 51/100\n",
            "1601/1601 [==============================] - 5s 3ms/step - loss: 0.6025 - root_mean_squared_error: 0.2324 - val_loss: 0.6081 - val_root_mean_squared_error: 0.2401\n",
            "Epoch 52/100\n",
            "1601/1601 [==============================] - 5s 3ms/step - loss: 0.6025 - root_mean_squared_error: 0.2324 - val_loss: 0.6081 - val_root_mean_squared_error: 0.2401\n",
            "Epoch 53/100\n",
            "1601/1601 [==============================] - 4s 3ms/step - loss: 0.6022 - root_mean_squared_error: 0.2321 - val_loss: 0.6078 - val_root_mean_squared_error: 0.2399\n",
            "Epoch 54/100\n",
            "1601/1601 [==============================] - 5s 3ms/step - loss: 0.6020 - root_mean_squared_error: 0.2319 - val_loss: 0.6077 - val_root_mean_squared_error: 0.2398\n",
            "Epoch 55/100\n",
            "1601/1601 [==============================] - 5s 3ms/step - loss: 0.6018 - root_mean_squared_error: 0.2317 - val_loss: 0.6076 - val_root_mean_squared_error: 0.2397\n",
            "Epoch 56/100\n",
            "1601/1601 [==============================] - 4s 3ms/step - loss: 0.6018 - root_mean_squared_error: 0.2318 - val_loss: 0.6074 - val_root_mean_squared_error: 0.2395\n",
            "Epoch 57/100\n",
            "1601/1601 [==============================] - 4s 3ms/step - loss: 0.6015 - root_mean_squared_error: 0.2315 - val_loss: 0.6073 - val_root_mean_squared_error: 0.2394\n",
            "Epoch 58/100\n",
            "1601/1601 [==============================] - 4s 3ms/step - loss: 0.6014 - root_mean_squared_error: 0.2314 - val_loss: 0.6073 - val_root_mean_squared_error: 0.2395\n",
            "Epoch 59/100\n",
            "1601/1601 [==============================] - 5s 3ms/step - loss: 0.6012 - root_mean_squared_error: 0.2312 - val_loss: 0.6069 - val_root_mean_squared_error: 0.2391\n",
            "Epoch 60/100\n",
            "1601/1601 [==============================] - 5s 3ms/step - loss: 0.6011 - root_mean_squared_error: 0.2311 - val_loss: 0.6069 - val_root_mean_squared_error: 0.2391\n",
            "Epoch 61/100\n",
            "1601/1601 [==============================] - 5s 3ms/step - loss: 0.6011 - root_mean_squared_error: 0.2311 - val_loss: 0.6068 - val_root_mean_squared_error: 0.2390\n",
            "Epoch 62/100\n",
            "1601/1601 [==============================] - 4s 3ms/step - loss: 0.6008 - root_mean_squared_error: 0.2308 - val_loss: 0.6066 - val_root_mean_squared_error: 0.2389\n",
            "Epoch 63/100\n",
            "1601/1601 [==============================] - 5s 3ms/step - loss: 0.6006 - root_mean_squared_error: 0.2306 - val_loss: 0.6066 - val_root_mean_squared_error: 0.2388\n",
            "Epoch 64/100\n",
            "1601/1601 [==============================] - 4s 3ms/step - loss: 0.6005 - root_mean_squared_error: 0.2305 - val_loss: 0.6066 - val_root_mean_squared_error: 0.2388\n",
            "Epoch 65/100\n",
            "1601/1601 [==============================] - 4s 3ms/step - loss: 0.6005 - root_mean_squared_error: 0.2305 - val_loss: 0.6065 - val_root_mean_squared_error: 0.2388\n",
            "Epoch 66/100\n",
            "1601/1601 [==============================] - 5s 3ms/step - loss: 0.6002 - root_mean_squared_error: 0.2303 - val_loss: 0.6062 - val_root_mean_squared_error: 0.2384\n",
            "Epoch 67/100\n",
            "1601/1601 [==============================] - 4s 3ms/step - loss: 0.6002 - root_mean_squared_error: 0.2302 - val_loss: 0.6062 - val_root_mean_squared_error: 0.2385\n",
            "Epoch 68/100\n",
            "1601/1601 [==============================] - 5s 3ms/step - loss: 0.6001 - root_mean_squared_error: 0.2301 - val_loss: 0.6062 - val_root_mean_squared_error: 0.2385\n",
            "Epoch 69/100\n",
            "1601/1601 [==============================] - 4s 3ms/step - loss: 0.5999 - root_mean_squared_error: 0.2300 - val_loss: 0.6063 - val_root_mean_squared_error: 0.2386\n",
            "Epoch 70/100\n",
            "1601/1601 [==============================] - 5s 3ms/step - loss: 0.5998 - root_mean_squared_error: 0.2299 - val_loss: 0.6062 - val_root_mean_squared_error: 0.2385\n",
            "Epoch 71/100\n",
            "1601/1601 [==============================] - 5s 3ms/step - loss: 0.5996 - root_mean_squared_error: 0.2297 - val_loss: 0.6062 - val_root_mean_squared_error: 0.2385\n",
            "Epoch 72/100\n",
            "1601/1601 [==============================] - 4s 3ms/step - loss: 0.5996 - root_mean_squared_error: 0.2297 - val_loss: 0.6061 - val_root_mean_squared_error: 0.2384\n",
            "Epoch 73/100\n",
            "1601/1601 [==============================] - 5s 3ms/step - loss: 0.5995 - root_mean_squared_error: 0.2296 - val_loss: 0.6062 - val_root_mean_squared_error: 0.2385\n",
            "Epoch 74/100\n",
            "1601/1601 [==============================] - 5s 3ms/step - loss: 0.5994 - root_mean_squared_error: 0.2296 - val_loss: 0.6059 - val_root_mean_squared_error: 0.2382\n",
            "Epoch 75/100\n",
            "1601/1601 [==============================] - 4s 3ms/step - loss: 0.5992 - root_mean_squared_error: 0.2294 - val_loss: 0.6059 - val_root_mean_squared_error: 0.2382\n",
            "Epoch 76/100\n",
            "1601/1601 [==============================] - 5s 3ms/step - loss: 0.5992 - root_mean_squared_error: 0.2294 - val_loss: 0.6057 - val_root_mean_squared_error: 0.2381\n",
            "Epoch 77/100\n",
            "1601/1601 [==============================] - 5s 3ms/step - loss: 0.5992 - root_mean_squared_error: 0.2294 - val_loss: 0.6060 - val_root_mean_squared_error: 0.2383\n",
            "Epoch 78/100\n",
            "1601/1601 [==============================] - 5s 3ms/step - loss: 0.5990 - root_mean_squared_error: 0.2292 - val_loss: 0.6058 - val_root_mean_squared_error: 0.2381\n",
            "Epoch 79/100\n",
            "1601/1601 [==============================] - 4s 3ms/step - loss: 0.5989 - root_mean_squared_error: 0.2290 - val_loss: 0.6057 - val_root_mean_squared_error: 0.2381\n",
            "Epoch 80/100\n",
            "1601/1601 [==============================] - 5s 3ms/step - loss: 0.5990 - root_mean_squared_error: 0.2291 - val_loss: 0.6056 - val_root_mean_squared_error: 0.2380\n",
            "Epoch 81/100\n",
            "1601/1601 [==============================] - 4s 3ms/step - loss: 0.5988 - root_mean_squared_error: 0.2290 - val_loss: 0.6054 - val_root_mean_squared_error: 0.2378\n",
            "Epoch 82/100\n",
            "1601/1601 [==============================] - 5s 3ms/step - loss: 0.5985 - root_mean_squared_error: 0.2287 - val_loss: 0.6055 - val_root_mean_squared_error: 0.2379\n",
            "Epoch 83/100\n",
            "1601/1601 [==============================] - 5s 3ms/step - loss: 0.5986 - root_mean_squared_error: 0.2288 - val_loss: 0.6054 - val_root_mean_squared_error: 0.2378\n",
            "Epoch 84/100\n",
            "1601/1601 [==============================] - 5s 3ms/step - loss: 0.5985 - root_mean_squared_error: 0.2288 - val_loss: 0.6053 - val_root_mean_squared_error: 0.2377\n",
            "Epoch 85/100\n",
            "1601/1601 [==============================] - 5s 3ms/step - loss: 0.5986 - root_mean_squared_error: 0.2288 - val_loss: 0.6053 - val_root_mean_squared_error: 0.2377\n",
            "Epoch 86/100\n",
            "1601/1601 [==============================] - 5s 3ms/step - loss: 0.5984 - root_mean_squared_error: 0.2286 - val_loss: 0.6053 - val_root_mean_squared_error: 0.2377\n",
            "Epoch 87/100\n",
            "1601/1601 [==============================] - 5s 3ms/step - loss: 0.5983 - root_mean_squared_error: 0.2286 - val_loss: 0.6054 - val_root_mean_squared_error: 0.2378\n",
            "Epoch 88/100\n",
            "1601/1601 [==============================] - 4s 3ms/step - loss: 0.5983 - root_mean_squared_error: 0.2285 - val_loss: 0.6053 - val_root_mean_squared_error: 0.2377\n",
            "Epoch 89/100\n",
            "1601/1601 [==============================] - 4s 3ms/step - loss: 0.5982 - root_mean_squared_error: 0.2285 - val_loss: 0.6053 - val_root_mean_squared_error: 0.2377\n",
            "Epoch 90/100\n",
            "1601/1601 [==============================] - 5s 3ms/step - loss: 0.5982 - root_mean_squared_error: 0.2285 - val_loss: 0.6051 - val_root_mean_squared_error: 0.2376\n",
            "Epoch 91/100\n",
            "1601/1601 [==============================] - 4s 3ms/step - loss: 0.5980 - root_mean_squared_error: 0.2282 - val_loss: 0.6053 - val_root_mean_squared_error: 0.2377\n",
            "Epoch 92/100\n",
            "1601/1601 [==============================] - 4s 3ms/step - loss: 0.5980 - root_mean_squared_error: 0.2283 - val_loss: 0.6052 - val_root_mean_squared_error: 0.2376\n",
            "Epoch 93/100\n",
            "1601/1601 [==============================] - 5s 3ms/step - loss: 0.5979 - root_mean_squared_error: 0.2282 - val_loss: 0.6052 - val_root_mean_squared_error: 0.2376\n",
            "Epoch 94/100\n",
            "1601/1601 [==============================] - 4s 3ms/step - loss: 0.5978 - root_mean_squared_error: 0.2281 - val_loss: 0.6051 - val_root_mean_squared_error: 0.2376\n",
            "Epoch 95/100\n",
            "1601/1601 [==============================] - 5s 3ms/step - loss: 0.5978 - root_mean_squared_error: 0.2281 - val_loss: 0.6051 - val_root_mean_squared_error: 0.2376\n",
            "Epoch 96/100\n",
            "1601/1601 [==============================] - 5s 3ms/step - loss: 0.5978 - root_mean_squared_error: 0.2281 - val_loss: 0.6051 - val_root_mean_squared_error: 0.2375\n",
            "Epoch 97/100\n",
            "1601/1601 [==============================] - 5s 3ms/step - loss: 0.5978 - root_mean_squared_error: 0.2281 - val_loss: 0.6050 - val_root_mean_squared_error: 0.2374\n",
            "Epoch 98/100\n",
            "1601/1601 [==============================] - 4s 3ms/step - loss: 0.5977 - root_mean_squared_error: 0.2280 - val_loss: 0.6049 - val_root_mean_squared_error: 0.2374\n",
            "Epoch 99/100\n",
            "1601/1601 [==============================] - 5s 3ms/step - loss: 0.5976 - root_mean_squared_error: 0.2279 - val_loss: 0.6049 - val_root_mean_squared_error: 0.2374\n",
            "Epoch 100/100\n",
            "1601/1601 [==============================] - 5s 3ms/step - loss: 0.5977 - root_mean_squared_error: 0.2279 - val_loss: 0.6047 - val_root_mean_squared_error: 0.2372\n"
          ]
        }
      ],
      "source": [
        "history = model.fit(\n",
        "    x = x_train,\n",
        "    y = y_train,\n",
        "    batch_size = 50,\n",
        "    epochs = 100,\n",
        "    validation_data = (x_val, y_val)\n",
        ")"
      ]
    },
    {
      "cell_type": "markdown",
      "metadata": {
        "id": "NTjz1fbgb54_"
      },
      "source": [
        "Visualisasi hasil training"
      ]
    },
    {
      "cell_type": "code",
      "execution_count": null,
      "metadata": {
        "colab": {
          "base_uri": "https://localhost:8080/",
          "height": 294
        },
        "id": "y31xRN4BPPMX",
        "outputId": "1b9e130b-ef9b-46ac-8af1-01a0a731b413"
      },
      "outputs": [
        {
          "data": {
            "image/png": "[encoded data removed]",
            "text/plain": [
              "<Figure size 432x288 with 1 Axes>"
            ]
          },
          "metadata": {},
          "output_type": "display_data"
        }
      ],
      "source": [
        "import matplotlib.pyplot as plt\n",
        "plt.plot(history.history['root_mean_squared_error'])\n",
        "plt.plot(history.history['val_root_mean_squared_error'])\n",
        "plt.title('model_metrics')\n",
        "plt.ylabel('root_mean_squared_error')\n",
        "plt.xlabel('epoch')\n",
        "plt.legend(['train', 'test'], loc='upper left')\n",
        "plt.show()"
      ]
    },
    {
      "cell_type": "markdown",
      "metadata": {
        "id": "vd13clQUcDwX"
      },
      "source": [
        "# Mendapatkan Rekomendasi judul film"
      ]
    },
    {
      "cell_type": "markdown",
      "metadata": {
        "id": "pXwTYpAdp1wv"
      },
      "source": [
        "Membuat variable yang berisi judul film yang sudah dan belum di tonton user"
      ]
    },
    {
      "cell_type": "code",
      "execution_count": null,
      "metadata": {
        "id": "WyQqcfFCPpZM"
      },
      "outputs": [],
      "source": [
        "title_df = title_new\n",
        "df2 = pd.read_csv('/content/drive/MyDrive/Colab Notebooks/Recommendation System.csv')\n",
        "df2.columns = ['user_id', 'item_id', 'rating', 'timestamp']\n",
        " \n",
        "users_id = df2.user_id.sample(1).iloc[0]\n",
        "title_watched_by_user = df2[df2.user_id == users_id]\n",
        "\n",
        "title_not_watched = title_df[~title_df['id'].isin(title_watched_by_user.user_id.values)]['id'] \n",
        "title_not_watched = list(\n",
        "    set(title_not_watched)\n",
        "    .intersection(set(title_to_title_encoded.keys()))\n",
        ")\n",
        " \n",
        "title_not_watched = [[title_to_title_encoded.get(x)] for x in title_not_watched]\n",
        "user_encoder = title_to_title_encoded.get(users_id)\n",
        "user_title_array = np.hstack(\n",
        "    ([[user_encoder]] * len(title_not_watched), title_not_watched)\n",
        ")"
      ]
    },
    {
      "cell_type": "markdown",
      "metadata": {
        "id": "fEAD6CH4qAHC"
      },
      "source": [
        "Memperoleh rekomendasi film dengan fungsi predict"
      ]
    },
    {
      "cell_type": "code",
      "execution_count": null,
      "metadata": {
        "colab": {
          "base_uri": "https://localhost:8080/"
        },
        "id": "krrpK8knPvlo",
        "outputId": "138257a6-1715-4d78-c5c6-d89a6574df13"
      },
      "outputs": [
        {
          "name": "stdout",
          "output_type": "stream",
          "text": [
            "Showing recommendations for users: 13\n",
            "===========================\n",
            "Title with high ratings from user\n",
            "--------------------------------\n",
            "Mighty Aphrodite (1995) : 4\n",
            "--------------------------------\n",
            "Top 10 title recommendation\n",
            "--------------------------------\n",
            "Title          |          Rating\n",
            "--------------------------------\n",
            "Usual Suspects, The (1995) : 5\n",
            "Star Wars (1977) : 4\n",
            "Shawshank Redemption, The (1994) : 5\n",
            "Silence of the Lambs, The (1991) : 4\n",
            "Wrong Trousers, The (1993) : 5\n",
            "12 Angry Men (1957) : 4\n",
            "Schindler's List (1993) : 5\n",
            "Close Shave, A (1995) : 4\n",
            "Casablanca (1942) : 5\n",
            "Rear Window (1954) : 5\n"
          ]
        }
      ],
      "source": [
        "ratings = model.predict(user_title_array).flatten()\n",
        " \n",
        "top_ratings_indices = ratings.argsort()[-10:][::-1]\n",
        "recommended_title_ids = [\n",
        "    title_encoded_to_title.get(title_not_watched[x][0]) for x in top_ratings_indices\n",
        "]\n",
        " \n",
        "print('Showing recommendations for users: {}'.format(users_id))\n",
        "print('===' * 9)\n",
        "print('Title with high ratings from user')\n",
        "print('----' * 8)\n",
        " \n",
        "top_title_user = (\n",
        "    title_watched_by_user.sort_values(\n",
        "        by = 'rating',\n",
        "        ascending=False\n",
        "    )\n",
        "    .head(5)\n",
        "    .user_id.values\n",
        ")\n",
        " \n",
        "title_df_rows = title_df[title_df['id'].isin(top_title_user)]\n",
        "for row in title_df_rows.itertuples():\n",
        "    print(row.title_name, ':', row.rating_title)\n",
        " \n",
        "print('----' * 8)\n",
        "print('Top 10 title recommendation')\n",
        "print('----' * 8)\n",
        "print('Title          |          Rating')\n",
        "print('----' * 8)\n",
        " \n",
        "recommended_title = title_df[title_df['id'].isin(recommended_title_ids)]\n",
        "for row in recommended_title.itertuples():\n",
        "    print(row.title_name,':', row.rating_title)"
      ]
    }
  ],
  "metadata": {
    "colab": {
      "collapsed_sections": [],
      "name": "sistem rekomendasi film.ipynb",
      "provenance": []
    },
    "kernelspec": {
      "display_name": "Python 3",
      "name": "python3"
    },
    "language_info": {
      "name": "python"
    }
  },
  "nbformat": 4,
  "nbformat_minor": 0
}